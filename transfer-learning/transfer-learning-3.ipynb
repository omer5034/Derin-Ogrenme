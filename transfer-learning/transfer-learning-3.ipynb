{
 "cells": [
  {
   "cell_type": "code",
   "execution_count": 1,
   "id": "2c24dd5f",
   "metadata": {},
   "outputs": [
    {
     "name": "stderr",
     "output_type": "stream",
     "text": [
      "C:\\anaconda3\\lib\\site-packages\\numpy\\_distributor_init.py:30: UserWarning: loaded more than 1 DLL from .libs:\n",
      "C:\\anaconda3\\lib\\site-packages\\numpy\\.libs\\libopenblas.FB5AE2TYXYH2IJRDKGDGQ3XBKLKTF43H.gfortran-win_amd64.dll\n",
      "C:\\anaconda3\\lib\\site-packages\\numpy\\.libs\\libopenblas64__v0.3.21-gcc_10_3_0.dll\n",
      "  warnings.warn(\"loaded more than 1 DLL from .libs:\"\n"
     ]
    }
   ],
   "source": [
    "import torch\n",
    "import torch.nn as nn\n",
    "import torchvision.models as models\n",
    "from torch.utils.data import Dataset, DataLoader\n",
    "from torchvision import datasets, transforms\n",
    "import torchvision\n",
    "# Örnek bir transform tanımla (istediğin şekilde düzenleyebilirsin)\n",
    "transform = transforms.Compose([\n",
    "    transforms.Resize((256, 256)),\n",
    "    transforms.ToTensor(),\n",
    "])\n",
    "\n",
    "# Veri setini yükle\n",
    "dataset = datasets.ImageFolder(root='./Kidney-Cancer', transform=transform)\n",
    "BATCH_SIZE = 16\n",
    "train_size = int(0.7 * len(dataset))\n",
    "test_size = len(dataset) - train_size\n",
    "\n",
    "train_set, test_set = torch.utils.data.random_split(dataset, [train_size, test_size])\n",
    "\n",
    "# Eğitim verisini %10 doğrulama için ayır\n",
    "val_size = int(0.1 * len(train_set))\n",
    "train_size -= val_size  # Geriye kalan kısım eğitim verisi olacak\n",
    "\n",
    "train_set, val_set = torch.utils.data.random_split(train_set, [train_size, val_size])\n",
    "\n",
    "# DataLoader'ları oluştur (batch_size'i ihtiyacınıza göre ayarlayabilirsin)\n",
    "train_loader = DataLoader(train_set, batch_size=BATCH_SIZE, shuffle=True)\n",
    "val_loader = DataLoader(val_set, batch_size=BATCH_SIZE, shuffle=False)\n",
    "test_loader = DataLoader(test_set, batch_size=BATCH_SIZE, shuffle=False)\n"
   ]
  },
  {
   "cell_type": "code",
   "execution_count": 2,
   "id": "d4dd83d3",
   "metadata": {},
   "outputs": [
    {
     "name": "stdout",
     "output_type": "stream",
     "text": [
      "Epoch : 1/15 , train loss : 0.2747979462146759\n",
      " Test loss : 0.005101214716477054 , test accuracy : 99.14285714285714\n",
      "Epoch : 2/15 , train loss : 0.012309950776398182\n",
      " Test loss : 0.003097916603354471 , test accuracy : 99.42857142857143\n",
      "Epoch : 3/15 , train loss : 0.12412998825311661\n",
      " Test loss : 0.0022589190091405597 , test accuracy : 99.42857142857143\n",
      "Epoch : 4/15 , train loss : 0.008219779469072819\n",
      " Test loss : 0.002082240202331117 , test accuracy : 99.14285714285714\n",
      "Epoch : 5/15 , train loss : 0.010182817466557026\n",
      " Test loss : 0.0021344169941065567 , test accuracy : 99.28571428571429\n",
      "Epoch : 6/15 , train loss : 0.22395257651805878\n",
      " Test loss : 0.0017590189575483757 , test accuracy : 99.28571428571429\n",
      "Epoch : 7/15 , train loss : 0.030475327745079994\n",
      " Test loss : 0.0011917756724038294 , test accuracy : 99.57142857142857\n",
      "Epoch : 8/15 , train loss : 0.03022467903792858\n",
      " Test loss : 0.0011479157488793134 , test accuracy : 99.57142857142857\n",
      "Epoch : 9/15 , train loss : 0.04634009301662445\n",
      " Test loss : 0.0011763464729301631 , test accuracy : 99.42857142857143\n",
      "Epoch : 10/15 , train loss : 0.09984140843153\n",
      " Test loss : 0.0009689628495834768 , test accuracy : 99.57142857142857\n",
      "Epoch : 11/15 , train loss : 0.28694644570350647\n",
      " Test loss : 0.0012513784477154591 , test accuracy : 99.42857142857143\n",
      "Epoch : 12/15 , train loss : 0.2363232523202896\n",
      " Test loss : 0.0007887299616621542 , test accuracy : 99.57142857142857\n",
      "Epoch : 13/15 , train loss : 0.03945446386933327\n",
      " Test loss : 0.0007938956430215122 , test accuracy : 99.71428571428571\n",
      "Epoch : 14/15 , train loss : 0.0619032084941864\n",
      " Test loss : 0.0008661179581291175 , test accuracy : 99.71428571428571\n",
      "Epoch : 15/15 , train loss : 0.011907406151294708\n",
      " Test loss : 0.0008901022552579109 , test accuracy : 99.28571428571429\n"
     ]
    }
   ],
   "source": [
    "device = \"cuda\" if torch.cuda.is_available() else \"cpu\"\n",
    "\n",
    "weights = torchvision.models.EfficientNet_B0_Weights.DEFAULT  \n",
    "model = torchvision.models.efficientnet_b0(weights=weights).to(device)\n",
    "model.classifier  = nn.Linear(1280,len(dataset.classes))\n",
    "for param in model.parameters():\n",
    "    param.requires_grad = False\n",
    "\n",
    "for param in model.classifier .parameters():\n",
    "    param.requires_grad = True\n",
    "\n",
    "lossF = nn.CrossEntropyLoss()\n",
    "optim = torch.optim.Adam(model.parameters(), lr=0.001)\n",
    "\n",
    "\n",
    "epochs = 15\n",
    "\n",
    "for epoch in range(epochs):\n",
    "    model.train().to(device)\n",
    "    \n",
    "    for inputs , labels in train_loader:\n",
    "        inputs , labels = inputs.to(device),labels.to(device)\n",
    "        optim.zero_grad()\n",
    "        results = model(inputs)\n",
    "        loss = lossF(results,labels)\n",
    "        loss.backward()\n",
    "        optim.step()\n",
    "    \n",
    "    print(\"Epoch : {}/{} , train loss : {}\".format(epoch+1,epochs,loss.item()))\n",
    "    \n",
    "    \n",
    "    model.eval()\n",
    "    test_loss = 0\n",
    "    acc = 0\n",
    "    \n",
    "    with torch.no_grad():\n",
    "        for inputs,labels in val_loader:\n",
    "            inputs , labels = inputs.to(device),labels.to(device)\n",
    "            results = model(inputs)\n",
    "            test_loss += lossF(results,labels).item()\n",
    "            _,predicted = torch.max(results,1)\n",
    "            acc += (predicted == labels).sum().item()\n",
    "            \n",
    "    test_loss  /= len(val_loader.dataset)\n",
    "    accuracy  = acc/ len(val_loader.dataset)*100\n",
    "    \n",
    "    print(\" Test loss : {} , test accuracy : {}\".format(test_loss,accuracy))"
   ]
  },
  {
   "cell_type": "code",
   "execution_count": 3,
   "id": "b2d6aa66",
   "metadata": {},
   "outputs": [],
   "source": [
    "torch.save(model.state_dict(), \"transfer-learning-3.pth\")"
   ]
  },
  {
   "cell_type": "code",
   "execution_count": null,
   "id": "ed316ebb",
   "metadata": {},
   "outputs": [],
   "source": []
  }
 ],
 "metadata": {
  "kernelspec": {
   "display_name": "Python 3 (ipykernel)",
   "language": "python",
   "name": "python3"
  },
  "language_info": {
   "codemirror_mode": {
    "name": "ipython",
    "version": 3
   },
   "file_extension": ".py",
   "mimetype": "text/x-python",
   "name": "python",
   "nbconvert_exporter": "python",
   "pygments_lexer": "ipython3",
   "version": "3.9.13"
  }
 },
 "nbformat": 4,
 "nbformat_minor": 5
}
